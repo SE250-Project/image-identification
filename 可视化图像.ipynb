{
 "cells": [
  {
   "cell_type": "code",
   "execution_count": null,
   "id": "8f64423e-a3ac-4bbd-b0fc-f045d905993c",
   "metadata": {},
   "outputs": [],
   "source": [
    "import matplotlib.pyplot as plt\n",
    "import matplotlib.image as mpimg\n",
    "from mpl_toolkits.axes_grid1 import ImageGrid\n",
    "%matplotlib inline\n",
    "\n",
    "import numpy as np\n",
    "import math\n",
    "import os\n",
    "\n",
    "import cv2\n",
    "\n",
    "from tqdm import tqdm"
   ]
  },
  {
   "cell_type": "code",
   "execution_count": null,
   "id": "821ba4c9-1a03-4a28-b1d2-4883661b1c46",
   "metadata": {},
   "outputs": [],
   "source": [
    "folder_path = 'dataset/train/短裙'"
   ]
  },
  {
   "cell_type": "code",
   "execution_count": null,
   "id": "c008c5f4-073b-44ef-84b3-627c5dff7297",
   "metadata": {},
   "outputs": [],
   "source": [
    "# 可视化图像的个数\n",
    "N = 36"
   ]
  },
  {
   "cell_type": "code",
   "execution_count": null,
   "id": "0eb2ba28-e54e-40e8-ba0d-45479c126ef0",
   "metadata": {},
   "outputs": [],
   "source": [
    "images = []\n",
    "for each_img in os.listdir(folder_path)[:N]:\n",
    "    img_path = os.path.join(folder_path, each_img)\n",
    "    img_bgr = cv2.imread(img_path)\n",
    "    img_rgb = cv2.cvtColor(img_bgr, cv2.COLOR_BGR2RGB)\n",
    "    images.append(img_rgb)"
   ]
  },
  {
   "cell_type": "code",
   "execution_count": null,
   "id": "8dd1e562-6d82-41f9-b444-507885931355",
   "metadata": {},
   "outputs": [],
   "source": [
    "len(images)"
   ]
  },
  {
   "cell_type": "code",
   "execution_count": null,
   "id": "2d05b18d-5b77-4951-9c96-f5670794764b",
   "metadata": {},
   "outputs": [],
   "source": [
    "fig = plt.figure(figsize=(10, 10))\n",
    "grid = ImageGrid(fig, 111,  # 类似绘制子图 subplot(111)\n",
    "                 nrows_ncols=(n, n),  # 创建 n 行 m 列的 axes 网格\n",
    "                 axes_pad=0.02,  # 网格间距\n",
    "                 share_all=True\n",
    "                 )\n",
    "\n",
    "# 遍历每张图像\n",
    "for ax, im in zip(grid, images):\n",
    "    ax.imshow(im)\n",
    "    ax.axis('off')\n",
    "\n",
    "plt.tight_layout()\n",
    "plt.show()"
   ]
  },
  {
   "cell_type": "code",
   "execution_count": null,
   "id": "6725bc4f-4e9b-45ce-a3da-c252e35b1f5f",
   "metadata": {},
   "outputs": [],
   "source": []
  },
  {
   "cell_type": "code",
   "execution_count": null,
   "id": "3758f7b8-6037-41aa-9201-06c585213c94",
   "metadata": {},
   "outputs": [],
   "source": []
  },
  {
   "cell_type": "code",
   "execution_count": null,
   "id": "0b234c04-e7f7-4057-aa7f-9a3b0734718a",
   "metadata": {},
   "outputs": [],
   "source": []
  },
  {
   "cell_type": "code",
   "execution_count": null,
   "id": "73987a00-6f39-4e2d-8f8f-33dbbf2d8558",
   "metadata": {},
   "outputs": [],
   "source": []
  },
  {
   "cell_type": "code",
   "execution_count": null,
   "id": "558edafb-ce83-4d32-9e60-b750c2868fb2",
   "metadata": {},
   "outputs": [],
   "source": []
  },
  {
   "cell_type": "code",
   "execution_count": null,
   "id": "a83a3571-ba6d-488e-8065-2b44051d888b",
   "metadata": {},
   "outputs": [],
   "source": []
  },
  {
   "cell_type": "code",
   "execution_count": null,
   "id": "e43c2719-5e07-4ef6-b8ae-d3c5ba44dbab",
   "metadata": {},
   "outputs": [],
   "source": []
  },
  {
   "cell_type": "code",
   "execution_count": null,
   "id": "34edc564-185b-49d0-8b0d-bc4a0dd33675",
   "metadata": {},
   "outputs": [],
   "source": []
  },
  {
   "cell_type": "code",
   "execution_count": null,
   "id": "e4a4be31-51a0-492d-9db0-5bfde8100702",
   "metadata": {},
   "outputs": [],
   "source": []
  },
  {
   "cell_type": "code",
   "execution_count": null,
   "id": "2d47cce1-b92a-48b6-8960-dffcad85037c",
   "metadata": {},
   "outputs": [],
   "source": []
  },
  {
   "cell_type": "code",
   "execution_count": null,
   "id": "c5a7a22d-8f41-4983-9fd7-0c2d4c712cc8",
   "metadata": {},
   "outputs": [],
   "source": []
  },
  {
   "cell_type": "code",
   "execution_count": null,
   "id": "5ad5230c-1ad2-4b31-b4db-8d8695c1ced3",
   "metadata": {},
   "outputs": [],
   "source": []
  },
  {
   "cell_type": "code",
   "execution_count": null,
   "id": "52cf49ac-359b-47b7-b11f-bf64cb93848d",
   "metadata": {},
   "outputs": [],
   "source": []
  },
  {
   "cell_type": "code",
   "execution_count": null,
   "id": "6fc0e5ea-a4a2-4887-b690-f03c6766f516",
   "metadata": {},
   "outputs": [],
   "source": []
  },
  {
   "cell_type": "code",
   "execution_count": null,
   "id": "666c5fd1-86c6-49a9-bd1d-2ed01aac0a96",
   "metadata": {},
   "outputs": [],
   "source": []
  },
  {
   "cell_type": "code",
   "execution_count": null,
   "id": "32c8a623-6361-4297-a840-e746e6fbb588",
   "metadata": {},
   "outputs": [],
   "source": []
  }
 ],
 "metadata": {
  "kernelspec": {
   "display_name": "Python 3 (ipykernel)",
   "language": "python",
   "name": "python3"
  },
  "language_info": {
   "codemirror_mode": {
    "name": "ipython",
    "version": 3
   },
   "file_extension": ".py",
   "mimetype": "text/x-python",
   "name": "python",
   "nbconvert_exporter": "python",
   "pygments_lexer": "ipython3",
   "version": "3.7.10"
  }
 },
 "nbformat": 4,
 "nbformat_minor": 5
}
