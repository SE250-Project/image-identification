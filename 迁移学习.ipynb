{
 "cells": [
  {
   "cell_type": "code",
   "execution_count": 1,
   "id": "d45c420d-6d82-40a7-bed8-116d5eee0b72",
   "metadata": {},
   "outputs": [
    {
     "name": "stdout",
     "output_type": "stream",
     "text": [
      "--2022-10-16 20:52:06--  https://zihao-openmmlab.obs.cn-east-3.myhuaweicloud.com/20220716-mmclassification/dataset/SimHei.ttf\n",
      "正在连接 172.16.0.13:5848... 已连接。\n",
      "已发出 Proxy 请求，正在等待回应... 200 OK\n",
      "长度： 10050868 (9.6M) [application/x-font-ttf]\n",
      "正在保存至: “SimHei.ttf.8”\n",
      "\n",
      "SimHei.ttf.8        100%[===================>]   9.58M  11.8MB/s    用时 0.8s    \n",
      "\n",
      "2022-10-16 20:52:07 (11.8 MB/s) - 已保存 “SimHei.ttf.8” [10050868/10050868])\n",
      "\n"
     ]
    }
   ],
   "source": [
    "!wget https://zihao-openmmlab.obs.cn-east-3.myhuaweicloud.com/20220716-mmclassification/dataset/SimHei.ttf"
   ]
  },
  {
   "cell_type": "code",
   "execution_count": 53,
   "id": "05e8eccf-1da1-4140-8c76-02a96e7130be",
   "metadata": {},
   "outputs": [
    {
     "ename": "ModuleNotFoundError",
     "evalue": "No module named 'matplotlib.pylot'",
     "output_type": "error",
     "traceback": [
      "\u001b[0;31m---------------------------------------------------------------------------\u001b[0m",
      "\u001b[0;31mModuleNotFoundError\u001b[0m                       Traceback (most recent call last)",
      "\u001b[0;32m/tmp/ipykernel_20046/3792379548.py\u001b[0m in \u001b[0;36m<module>\u001b[0;34m\u001b[0m\n\u001b[0;32m----> 1\u001b[0;31m \u001b[0;32mimport\u001b[0m \u001b[0mmatplotlib\u001b[0m\u001b[0;34m.\u001b[0m\u001b[0mpylot\u001b[0m \u001b[0;32mas\u001b[0m \u001b[0mplt\u001b[0m\u001b[0;34m\u001b[0m\u001b[0;34m\u001b[0m\u001b[0m\n\u001b[0m",
      "\u001b[0;31mModuleNotFoundError\u001b[0m: No module named 'matplotlib.pylot'"
     ]
    }
   ],
   "source": [
    "import matplotlib.pylot as plt"
   ]
  },
  {
   "cell_type": "code",
   "execution_count": 54,
   "id": "9bf68b6a-8591-468c-b922-82fd05d47c21",
   "metadata": {},
   "outputs": [],
   "source": [
    "plt.rcParams['font.sans-serif']=['SimHei']\n",
    "plt.rcParams['axes.unicode_minus']=False"
   ]
  },
  {
   "cell_type": "code",
   "execution_count": 2,
   "id": "63097826-2912-46ac-b013-9d1b918cc447",
   "metadata": {},
   "outputs": [],
   "source": [
    "# # windows操作系统\n",
    "# plt.rcParams['font.sans-serif']=['SimHei']  # 用来正常显示中文标签 \n",
    "# plt.rcParams['axes.unicode_minus']=False  # 用来正常显示负号"
   ]
  },
  {
   "cell_type": "code",
   "execution_count": 3,
   "id": "ef95fa6c-1b96-4bce-b4f5-12f75aaafbb2",
   "metadata": {},
   "outputs": [],
   "source": [
    "import time\n",
    "import os\n",
    "\n",
    "import numpy as np\n",
    "from tqdm import tqdm\n",
    "\n",
    "import torch\n",
    "import torchvision\n",
    "import torch.nn as nn\n",
    "import torch.nn.functional as F\n",
    "\n",
    "import matplotlib.pyplot as plt\n",
    "%matplotlib inline\n",
    "\n",
    "# 忽略烦人的红色提示\n",
    "import warnings\n",
    "warnings.filterwarnings(\"ignore\")"
   ]
  },
  {
   "cell_type": "code",
   "execution_count": 4,
   "id": "84c0f093-5e35-4531-a8f2-917c606ab128",
   "metadata": {},
   "outputs": [
    {
     "name": "stdout",
     "output_type": "stream",
     "text": [
      "device cuda:0\n"
     ]
    }
   ],
   "source": [
    "# 有 GPU 就用 GPU，没有就用 CPU\n",
    "device = torch.device('cuda:0' if torch.cuda.is_available() else 'cpu')\n",
    "print('device', device)"
   ]
  },
  {
   "cell_type": "code",
   "execution_count": 5,
   "id": "7b0e5d10-6b4b-4dad-b2c2-2a1023466e57",
   "metadata": {},
   "outputs": [],
   "source": [
    "from torchvision import transforms\n",
    "\n",
    "# 训练集图像预处理：缩放裁剪、图像增强、转 Tensor、归一化\n",
    "train_transform = transforms.Compose([transforms.RandomResizedCrop(224),\n",
    "                                      transforms.RandomHorizontalFlip(),\n",
    "                                      transforms.ToTensor(),\n",
    "                                      transforms.Normalize([0.485, 0.456, 0.406], [0.229, 0.224, 0.225])\n",
    "                                     ])\n",
    "\n",
    "# 测试集图像预处理-RCTN：缩放、裁剪、转 Tensor、归一化\n",
    "test_transform = transforms.Compose([transforms.Resize(256),\n",
    "                                     transforms.CenterCrop(224),\n",
    "                                     transforms.ToTensor(),\n",
    "                                     transforms.Normalize(\n",
    "                                         mean=[0.485, 0.456, 0.406], \n",
    "                                         std=[0.229, 0.224, 0.225])\n",
    "                                    ])"
   ]
  },
  {
   "cell_type": "code",
   "execution_count": 6,
   "id": "314716ac-fcf6-486b-b6d0-0dc88d789942",
   "metadata": {},
   "outputs": [],
   "source": [
    "# 数据集文件夹路径\n",
    "# ../返回上一个文件夹\n",
    "# ./当前文件夹\n",
    "dataset_dir = 'dataset_split'"
   ]
  },
  {
   "cell_type": "code",
   "execution_count": 7,
   "id": "64551891-55c2-41bf-863b-e12c83936955",
   "metadata": {},
   "outputs": [
    {
     "name": "stdout",
     "output_type": "stream",
     "text": [
      "训练集路径 dataset_split/train\n",
      "测试集路径 dataset_split/val\n"
     ]
    }
   ],
   "source": [
    "train_path = os.path.join(dataset_dir, 'train')\n",
    "test_path = os.path.join(dataset_dir, 'val')\n",
    "print('训练集路径', train_path)\n",
    "print('测试集路径', test_path)"
   ]
  },
  {
   "cell_type": "code",
   "execution_count": 8,
   "id": "58b0f7c7-db65-4adb-8c54-622934abf03a",
   "metadata": {},
   "outputs": [],
   "source": [
    "from torchvision import datasets\n",
    "\n",
    "# 载入训练集\n",
    "train_dataset = datasets.ImageFolder(train_path, train_transform)\n",
    "\n",
    "# 载入测试集\n",
    "test_dataset = datasets.ImageFolder(test_path, test_transform)"
   ]
  },
  {
   "cell_type": "code",
   "execution_count": 9,
   "id": "107579a7-07a1-4775-882a-acdea79dce45",
   "metadata": {},
   "outputs": [
    {
     "name": "stdout",
     "output_type": "stream",
     "text": [
      "训练集图像数量 4603\n",
      "类别个数 23\n",
      "各类别名称 ['MP3', 't恤衫', '体育用品', '外套', '家具', '平板电脑', '快餐', '手机', '文具', '无线耳机', '有线耳机', '毛衣', '生鲜', '短裙', '短裤', '笔记本电脑', '衬衣', '酱料', '长裙', '长裤', '零食', '鞋子', '饮品']\n"
     ]
    }
   ],
   "source": [
    "print('训练集图像数量', len(train_dataset))\n",
    "print('类别个数', len(train_dataset.classes))\n",
    "print('各类别名称', train_dataset.classes)"
   ]
  },
  {
   "cell_type": "code",
   "execution_count": 10,
   "id": "35a23988-60ad-4aa1-9c58-739819b8f5e0",
   "metadata": {},
   "outputs": [
    {
     "name": "stdout",
     "output_type": "stream",
     "text": [
      "测试集图像数量 1144\n",
      "类别个数 23\n",
      "各类别名称 ['MP3', 't恤衫', '体育用品', '外套', '家具', '平板电脑', '快餐', '手机', '文具', '无线耳机', '有线耳机', '毛衣', '生鲜', '短裙', '短裤', '笔记本电脑', '衬衣', '酱料', '长裙', '长裤', '零食', '鞋子', '饮品']\n"
     ]
    }
   ],
   "source": [
    "print('测试集图像数量', len(test_dataset))\n",
    "print('类别个数', len(test_dataset.classes))\n",
    "print('各类别名称', test_dataset.classes)"
   ]
  },
  {
   "cell_type": "code",
   "execution_count": 11,
   "id": "6bec01b6-e6c5-441d-a0cd-0560232b350c",
   "metadata": {},
   "outputs": [],
   "source": [
    "# 各类别名称\n",
    "class_names = train_dataset.classes\n",
    "n_class = len(class_names)"
   ]
  },
  {
   "cell_type": "code",
   "execution_count": 12,
   "id": "9e4ca04b-a8fa-4332-85c5-4f1aaffe0fff",
   "metadata": {},
   "outputs": [
    {
     "data": {
      "text/plain": [
       "['MP3',\n",
       " 't恤衫',\n",
       " '体育用品',\n",
       " '外套',\n",
       " '家具',\n",
       " '平板电脑',\n",
       " '快餐',\n",
       " '手机',\n",
       " '文具',\n",
       " '无线耳机',\n",
       " '有线耳机',\n",
       " '毛衣',\n",
       " '生鲜',\n",
       " '短裙',\n",
       " '短裤',\n",
       " '笔记本电脑',\n",
       " '衬衣',\n",
       " '酱料',\n",
       " '长裙',\n",
       " '长裤',\n",
       " '零食',\n",
       " '鞋子',\n",
       " '饮品']"
      ]
     },
     "execution_count": 12,
     "metadata": {},
     "output_type": "execute_result"
    }
   ],
   "source": [
    "class_names"
   ]
  },
  {
   "cell_type": "code",
   "execution_count": 13,
   "id": "5b4cbfa7-2289-46f7-81d9-6c8379983098",
   "metadata": {},
   "outputs": [
    {
     "data": {
      "text/plain": [
       "{'MP3': 0,\n",
       " 't恤衫': 1,\n",
       " '体育用品': 2,\n",
       " '外套': 3,\n",
       " '家具': 4,\n",
       " '平板电脑': 5,\n",
       " '快餐': 6,\n",
       " '手机': 7,\n",
       " '文具': 8,\n",
       " '无线耳机': 9,\n",
       " '有线耳机': 10,\n",
       " '毛衣': 11,\n",
       " '生鲜': 12,\n",
       " '短裙': 13,\n",
       " '短裤': 14,\n",
       " '笔记本电脑': 15,\n",
       " '衬衣': 16,\n",
       " '酱料': 17,\n",
       " '长裙': 18,\n",
       " '长裤': 19,\n",
       " '零食': 20,\n",
       " '鞋子': 21,\n",
       " '饮品': 22}"
      ]
     },
     "execution_count": 13,
     "metadata": {},
     "output_type": "execute_result"
    }
   ],
   "source": [
    "# 映射关系：类别 到 索引号\n",
    "train_dataset.class_to_idx"
   ]
  },
  {
   "cell_type": "code",
   "execution_count": 14,
   "id": "730fbc65-523f-4175-a96f-440e8d4af69b",
   "metadata": {},
   "outputs": [],
   "source": [
    "# 映射关系：索引号 到 类别\n",
    "idx_to_labels = {y:x for x,y in train_dataset.class_to_idx.items()}"
   ]
  },
  {
   "cell_type": "code",
   "execution_count": 15,
   "id": "bef4d632-b293-48d4-8cd8-9ec4aebdace8",
   "metadata": {},
   "outputs": [
    {
     "data": {
      "text/plain": [
       "{0: 'MP3',\n",
       " 1: 't恤衫',\n",
       " 2: '体育用品',\n",
       " 3: '外套',\n",
       " 4: '家具',\n",
       " 5: '平板电脑',\n",
       " 6: '快餐',\n",
       " 7: '手机',\n",
       " 8: '文具',\n",
       " 9: '无线耳机',\n",
       " 10: '有线耳机',\n",
       " 11: '毛衣',\n",
       " 12: '生鲜',\n",
       " 13: '短裙',\n",
       " 14: '短裤',\n",
       " 15: '笔记本电脑',\n",
       " 16: '衬衣',\n",
       " 17: '酱料',\n",
       " 18: '长裙',\n",
       " 19: '长裤',\n",
       " 20: '零食',\n",
       " 21: '鞋子',\n",
       " 22: '饮品'}"
      ]
     },
     "execution_count": 15,
     "metadata": {},
     "output_type": "execute_result"
    }
   ],
   "source": [
    "idx_to_labels"
   ]
  },
  {
   "cell_type": "code",
   "execution_count": 16,
   "id": "738e01c0-12c6-4852-8b4a-6d729d0682e3",
   "metadata": {},
   "outputs": [],
   "source": [
    "# 保存为本地的 npy 文件\n",
    "np.save('idx_to_labels.npy', idx_to_labels)\n",
    "np.save('labels_to_idx.npy', train_dataset.class_to_idx)"
   ]
  },
  {
   "cell_type": "code",
   "execution_count": 17,
   "id": "d7355703-9878-4352-beb5-028a31edeab3",
   "metadata": {},
   "outputs": [],
   "source": [
    "from torch.utils.data import DataLoader"
   ]
  },
  {
   "cell_type": "code",
   "execution_count": 18,
   "id": "7299aee6-63fd-4478-84b3-c9ded8359064",
   "metadata": {},
   "outputs": [],
   "source": [
    "BATCH_SIZE = 32\n",
    "\n",
    "# 训练集的数据加载器\n",
    "train_loader = DataLoader(train_dataset,\n",
    "                          batch_size=BATCH_SIZE,\n",
    "                          shuffle=True,\n",
    "                          num_workers=4\n",
    "                         )\n",
    "\n",
    "# 测试集的数据加载器\n",
    "test_loader = DataLoader(test_dataset,\n",
    "                         batch_size=BATCH_SIZE,\n",
    "                         shuffle=False,\n",
    "                         num_workers=4\n",
    "                        )"
   ]
  },
  {
   "cell_type": "code",
   "execution_count": 19,
   "id": "65a526bf-c3b8-4513-bf67-4889048d9edf",
   "metadata": {},
   "outputs": [],
   "source": [
    "# DataLoader 是 python生成器，每次调用返回一个 batch 的数据\n",
    "images, labels = next(iter(train_loader))"
   ]
  },
  {
   "cell_type": "code",
   "execution_count": 20,
   "id": "cef05b9f-5fee-4a5b-bc01-8885baf5b071",
   "metadata": {},
   "outputs": [
    {
     "data": {
      "text/plain": [
       "torch.Size([32, 3, 224, 224])"
      ]
     },
     "execution_count": 20,
     "metadata": {},
     "output_type": "execute_result"
    }
   ],
   "source": [
    "images.shape"
   ]
  },
  {
   "cell_type": "code",
   "execution_count": 21,
   "id": "e6699bb9-71d6-4c95-a9c3-d1ac10f82880",
   "metadata": {},
   "outputs": [
    {
     "data": {
      "text/plain": [
       "tensor([ 8,  5, 14, 19, 19,  4,  9, 21, 14,  7,  5, 19, 17,  8,  2,  3, 13, 16,\n",
       "         2,  4,  8,  4,  8, 13, 11, 22,  6,  2,  8, 22, 18,  6])"
      ]
     },
     "execution_count": 21,
     "metadata": {},
     "output_type": "execute_result"
    }
   ],
   "source": [
    "labels"
   ]
  },
  {
   "cell_type": "code",
   "execution_count": 22,
   "id": "53e80848-c3b6-4058-a4a5-34d8b5a6bfa3",
   "metadata": {},
   "outputs": [],
   "source": [
    "# 将数据集中的Tensor张量转为numpy的array数据类型\n",
    "images = images.numpy()"
   ]
  },
  {
   "cell_type": "code",
   "execution_count": 23,
   "id": "a36a60ba-5368-4cab-ab45-48ed762c5f40",
   "metadata": {},
   "outputs": [
    {
     "data": {
      "text/plain": [
       "(3, 224, 224)"
      ]
     },
     "execution_count": 23,
     "metadata": {},
     "output_type": "execute_result"
    }
   ],
   "source": [
    "images[5].shape"
   ]
  },
  {
   "cell_type": "code",
   "execution_count": 24,
   "id": "286a6f12-d72a-419e-a5f4-5c1662690d42",
   "metadata": {},
   "outputs": [
    {
     "data": {
      "image/png": "[encoded data removed]",
      "text/plain": [
       "<Figure size 432x288 with 1 Axes>"
      ]
     },
     "metadata": {
      "needs_background": "light"
     },
     "output_type": "display_data"
    }
   ],
   "source": [
    "plt.hist(images[5].flatten(), bins=50)\n",
    "plt.show()"
   ]
  },
  {
   "cell_type": "code",
   "execution_count": 25,
   "id": "fcdc9991-55a4-44af-b208-9637cd434d50",
   "metadata": {},
   "outputs": [
    {
     "name": "stderr",
     "output_type": "stream",
     "text": [
      "Clipping input data to the valid range for imshow with RGB data ([0..1] for floats or [0..255] for integers).\n"
     ]
    },
    {
     "data": {
      "text/plain": [
       "Text(0.5, 1.0, 'label:14')"
      ]
     },
     "execution_count": 25,
     "metadata": {},
     "output_type": "execute_result"
    },
    {
     "data": {
      "image/png": "[encoded data removed]",
      "text/plain": [
       "<Figure size 432x288 with 1 Axes>"
      ]
     },
     "metadata": {
      "needs_background": "light"
     },
     "output_type": "display_data"
    }
   ],
   "source": [
    "# batch 中经过预处理的图像\n",
    "idx = 2\n",
    "plt.imshow(images[idx].transpose((1,2,0))) # 转为(224, 224, 3)\n",
    "plt.title('label:'+str(labels[idx].item()))"
   ]
  },
  {
   "cell_type": "code",
   "execution_count": 26,
   "id": "926a0ce8-0f41-40d3-9006-6924dd53d103",
   "metadata": {},
   "outputs": [],
   "source": [
    "label = labels[idx].item()"
   ]
  },
  {
   "cell_type": "code",
   "execution_count": 27,
   "id": "bd14fc63-1a22-40e6-b469-b1db36cac5a0",
   "metadata": {},
   "outputs": [
    {
     "data": {
      "text/plain": [
       "14"
      ]
     },
     "execution_count": 27,
     "metadata": {},
     "output_type": "execute_result"
    }
   ],
   "source": [
    "label"
   ]
  },
  {
   "cell_type": "code",
   "execution_count": 28,
   "id": "192f78ae-4712-4347-8f74-195ce851cf4e",
   "metadata": {},
   "outputs": [],
   "source": [
    "pred_classname = idx_to_labels[label]"
   ]
  },
  {
   "cell_type": "code",
   "execution_count": 29,
   "id": "b4e0a5f8-c3f1-47ca-8c98-268b18f244cf",
   "metadata": {},
   "outputs": [
    {
     "data": {
      "text/plain": [
       "'短裤'"
      ]
     },
     "execution_count": 29,
     "metadata": {},
     "output_type": "execute_result"
    }
   ],
   "source": [
    "pred_classname"
   ]
  },
  {
   "cell_type": "code",
   "execution_count": 31,
   "id": "23761fc8-5389-4fe0-9aef-ade904b8828a",
   "metadata": {},
   "outputs": [],
   "source": [
    "from torchvision import models\n",
    "import torch.optim as optim"
   ]
  },
  {
   "cell_type": "code",
   "execution_count": 32,
   "id": "55e866ae-0325-4c23-bf5f-c041a07dc9d4",
   "metadata": {},
   "outputs": [
    {
     "name": "stderr",
     "output_type": "stream",
     "text": [
      "Downloading: \"https://download.pytorch.org/models/resnet18-f37072fd.pth\" to /home/featurize/.cache/torch/hub/checkpoints/resnet18-f37072fd.pth\n"
     ]
    },
    {
     "data": {
      "application/vnd.jupyter.widget-view+json": {
       "model_id": "7637e1e7d8bc49499ba1171bbe1b56a9",
       "version_major": 2,
       "version_minor": 0
      },
      "text/plain": [
       "  0%|          | 0.00/44.7M [00:00<?, ?B/s]"
      ]
     },
     "metadata": {},
     "output_type": "display_data"
    }
   ],
   "source": [
    "model = models.resnet18(pretrained=True) # 载入预训练模型\n",
    "\n",
    "# 修改全连接层，使得全连接层的输出与当前数据集类别数对应\n",
    "# 新建的层默认 requires_grad=True\n",
    "model.fc = nn.Linear(model.fc.in_features, n_class)"
   ]
  },
  {
   "cell_type": "code",
   "execution_count": 33,
   "id": "4d64b252-4992-4b1e-8ce5-ca0ecad3a872",
   "metadata": {},
   "outputs": [
    {
     "data": {
      "text/plain": [
       "Linear(in_features=512, out_features=23, bias=True)"
      ]
     },
     "execution_count": 33,
     "metadata": {},
     "output_type": "execute_result"
    }
   ],
   "source": [
    "model.fc"
   ]
  },
  {
   "cell_type": "code",
   "execution_count": 34,
   "id": "e3c1f72f-64b3-4958-a7a8-6749989cd301",
   "metadata": {},
   "outputs": [],
   "source": [
    "# 只微调训练最后一层全连接层的参数，其它层冻结\n",
    "optimizer = optim.Adam(model.fc.parameters())"
   ]
  },
  {
   "cell_type": "code",
   "execution_count": 35,
   "id": "2a381ec1-b7d4-4ca7-b430-37a920219740",
   "metadata": {},
   "outputs": [],
   "source": [
    "model = model.to(device)\n",
    "\n",
    "# 交叉熵损失函数\n",
    "criterion = nn.CrossEntropyLoss() \n",
    "\n",
    "# 训练轮次 Epoch\n",
    "EPOCHS = 20"
   ]
  },
  {
   "cell_type": "code",
   "execution_count": 36,
   "id": "f93bbf1a-9fdb-4058-bb19-2c871d9fefc9",
   "metadata": {},
   "outputs": [],
   "source": [
    "# 获得一个 batch 的数据和标注\n",
    "images, labels = next(iter(train_loader))\n",
    "images = images.to(device)\n",
    "labels = labels.to(device)"
   ]
  },
  {
   "cell_type": "code",
   "execution_count": 37,
   "id": "eb502cbc-0b56-46b6-8b51-9be63aceecd8",
   "metadata": {},
   "outputs": [],
   "source": [
    "# 输入模型，执行前向预测\n",
    "outputs = model(images)"
   ]
  },
  {
   "cell_type": "code",
   "execution_count": 38,
   "id": "6a20d413-59c3-4339-a2ca-54f107285a13",
   "metadata": {},
   "outputs": [
    {
     "data": {
      "text/plain": [
       "torch.Size([32, 23])"
      ]
     },
     "execution_count": 38,
     "metadata": {},
     "output_type": "execute_result"
    }
   ],
   "source": [
    "# 获得当前 batch 所有图像的预测类别 logit 分数\n",
    "outputs.shape"
   ]
  },
  {
   "cell_type": "code",
   "execution_count": 39,
   "id": "1f633df4-6eac-4f5c-a4e2-b0c1a6c9c30d",
   "metadata": {},
   "outputs": [],
   "source": [
    "# 由 logit，计算当前 batch 中，每个样本的平均交叉熵损失函数值\n",
    "loss = criterion(outputs, labels)"
   ]
  },
  {
   "cell_type": "code",
   "execution_count": 40,
   "id": "93b29f6f-3de3-48e8-977e-52f962c01235",
   "metadata": {},
   "outputs": [],
   "source": [
    "# 反向传播“三部曲”\n",
    "optimizer.zero_grad() # 清除梯度\n",
    "loss.backward() # 反向传播\n",
    "optimizer.step() # 优化更新"
   ]
  },
  {
   "cell_type": "code",
   "execution_count": 41,
   "id": "9ab0673f-f500-4521-bb16-6344b30402b3",
   "metadata": {},
   "outputs": [],
   "source": [
    "# 获得当前 batch 所有图像的预测类别\n",
    "_, preds = torch.max(outputs, 1)"
   ]
  },
  {
   "cell_type": "code",
   "execution_count": 42,
   "id": "3bf407f9-efc8-4cc5-ad49-ae67ced5225d",
   "metadata": {},
   "outputs": [
    {
     "data": {
      "text/plain": [
       "tensor([ 0, 10, 19, 10, 19, 19, 10,  8,  0, 10,  0, 18, 22, 19, 17,  0, 14, 17,\n",
       "        19,  1, 10, 18, 19, 17,  0, 17, 19, 20, 19, 16, 20, 19],\n",
       "       device='cuda:0')"
      ]
     },
     "execution_count": 42,
     "metadata": {},
     "output_type": "execute_result"
    }
   ],
   "source": [
    "preds"
   ]
  },
  {
   "cell_type": "code",
   "execution_count": 43,
   "id": "0830d5c6-2c33-4c7c-b9df-16e260c5e620",
   "metadata": {},
   "outputs": [
    {
     "data": {
      "text/plain": [
       "tensor([ 3,  1,  3,  4, 16,  5,  4,  2,  7, 19,  2, 17, 17, 14,  8, 13,  5,  4,\n",
       "        10,  4,  6,  0, 13,  2,  2, 20, 11,  4,  4,  3, 10, 18],\n",
       "       device='cuda:0')"
      ]
     },
     "execution_count": 43,
     "metadata": {},
     "output_type": "execute_result"
    }
   ],
   "source": [
    "labels"
   ]
  },
  {
   "cell_type": "code",
   "execution_count": 44,
   "id": "92281e58-9020-4725-9b84-60794546551d",
   "metadata": {},
   "outputs": [
    {
     "name": "stderr",
     "output_type": "stream",
     "text": [
      "100%|██████████| 20/20 [03:37<00:00, 10.85s/it]\n"
     ]
    }
   ],
   "source": [
    "# 遍历每个 EPOCH\n",
    "for epoch in tqdm(range(EPOCHS)):\n",
    "\n",
    "    model.train()\n",
    "\n",
    "    for images, labels in train_loader:  # 获得一个 batch 的数据和标注\n",
    "        images = images.to(device)\n",
    "        labels = labels.to(device)\n",
    "\n",
    "        outputs = model(images)\n",
    "        loss = criterion(outputs, labels) # 计算当前 batch 中，每个样本的平均交叉熵损失函数值\n",
    "        \n",
    "        optimizer.zero_grad()\n",
    "        loss.backward()\n",
    "        optimizer.step()"
   ]
  },
  {
   "cell_type": "code",
   "execution_count": 45,
   "id": "e6cb9960-16fc-4b44-982d-6594d6427176",
   "metadata": {},
   "outputs": [
    {
     "name": "stderr",
     "output_type": "stream",
     "text": [
      "100%|██████████| 36/36 [00:07<00:00,  4.95it/s]"
     ]
    },
    {
     "name": "stdout",
     "output_type": "stream",
     "text": [
      "测试集上的准确率为 84.353 %\n"
     ]
    },
    {
     "name": "stderr",
     "output_type": "stream",
     "text": [
      "\n"
     ]
    }
   ],
   "source": [
    "model.eval()\n",
    "with torch.no_grad():\n",
    "    correct = 0\n",
    "    total = 0\n",
    "    for images, labels in tqdm(test_loader):\n",
    "        images = images.to(device)\n",
    "        labels = labels.to(device)\n",
    "        outputs = model(images)\n",
    "        _, preds = torch.max(outputs, 1)\n",
    "        total += labels.size(0)\n",
    "        correct += (preds == labels).sum()\n",
    "\n",
    "    print('测试集上的准确率为 {:.3f} %'.format(100 * correct / total))"
   ]
  },
  {
   "cell_type": "code",
   "execution_count": 46,
   "id": "3faecd13-27f7-4b99-baa8-6f21e6446b12",
   "metadata": {},
   "outputs": [],
   "source": [
    "torch.save(model, 'checkpoints/dataset_pytorch_20220814.pth')"
   ]
  },
  {
   "cell_type": "code",
   "execution_count": null,
   "id": "9121632e-bd24-43fa-a6a5-279f1a597934",
   "metadata": {},
   "outputs": [],
   "source": []
  },
  {
   "cell_type": "code",
   "execution_count": null,
   "id": "7e19811c-91ac-463f-904b-468fd8c9a476",
   "metadata": {},
   "outputs": [],
   "source": []
  }
 ],
 "metadata": {
  "kernelspec": {
   "display_name": "Python 3 (ipykernel)",
   "language": "python",
   "name": "python3"
  },
  "language_info": {
   "codemirror_mode": {
    "name": "ipython",
    "version": 3
   },
   "file_extension": ".py",
   "mimetype": "text/x-python",
   "name": "python",
   "nbconvert_exporter": "python",
   "pygments_lexer": "ipython3",
   "version": "3.7.10"
  }
 },
 "nbformat": 4,
 "nbformat_minor": 5
}
