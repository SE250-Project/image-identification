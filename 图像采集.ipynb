{
 "cells": [
  {
   "cell_type": "code",
   "execution_count": 1,
   "id": "7916f168-9530-46fa-b047-1846193ceaea",
   "metadata": {},
   "outputs": [],
   "source": [
    "import os\n",
    "\n",
    "import time\n",
    "\n",
    "import requests\n",
    "\n",
    "import urllib3\n",
    "urllib3.disable_warnings()\n",
    "\n",
    "# 进度条库\n",
    "from tqdm import tqdm\n",
    "\n",
    "import os"
   ]
  },
  {
   "cell_type": "code",
   "execution_count": 2,
   "id": "cddb7ce3-a270-41b9-b183-fc93ec84d14d",
   "metadata": {},
   "outputs": [],
   "source": [
    "cookies = {\n",
    "'BDqhfp': '%E7%8B%97%E7%8B%97%26%26NaN-1undefined%26%2618880%26%2621',\n",
    "'BIDUPSID': '06338E0BE23C6ADB52165ACEB972355B',\n",
    "'PSTM': '1646905430',\n",
    "'BAIDUID': '104BD58A7C408DABABCAC9E0A1B184B4:FG=1',\n",
    "'BDORZ': 'B490B5EBF6F3CD402E515D22BCDA1598',\n",
    "'H_PS_PSSID': '35836_35105_31254_36024_36005_34584_36142_36120_36032_35993_35984_35319_26350_35723_22160_36061',\n",
    "'BDSFRCVID': '8--OJexroG0xMovDbuOS5T78igKKHJQTDYLtOwXPsp3LGJLVgaSTEG0PtjcEHMA-2ZlgogKK02OTH6KF_2uxOjjg8UtVJeC6EG0Ptf8g0M5',\n",
    "'H_BDCLCKID_SF': 'tJPqoKtbtDI3fP36qR3KhPt8Kpby2D62aKDs2nopBhcqEIL4QTQM5p5yQ2c7LUvtynT2KJnz3Po8MUbSj4QoDjFjXJ7RJRJbK6vwKJ5s5h5nhMJSb67JDMP0-4F8exry523ioIovQpn0MhQ3DRoWXPIqbN7P-p5Z5mAqKl0MLPbtbb0xXj_0D6bBjHujtT_s2TTKLPK8fCnBDP59MDTjhPrMypomWMT-0bFH_-5L-l5js56SbU5hW5LSQxQ3QhLDQNn7_JjOX-0bVIj6Wl_-etP3yarQhxQxtNRdXInjtpvhHR38MpbobUPUDa59LUvEJgcdot5yBbc8eIna5hjkbfJBQttjQn3hfIkj0DKLtD8bMC-RDjt35n-Wqxobbtof-KOhLTrJaDkWsx7Oy4oTj6DD5lrG0P6RHmb8ht59JROPSU7mhqb_3MvB-fnEbf7r-2TP_R6GBPQtqMbIQft20-DIeMtjBMJaJRCqWR7jWhk2hl72ybCMQlRX5q79atTMfNTJ-qcH0KQpsIJM5-DWbT8EjHCet5DJJn4j_Dv5b-0aKRcY-tT5M-Lf5eT22-usy6Qd2hcH0KLKDh6gb4PhQKuZ5qutLTb4QTbqWKJcKfb1MRjvMPnF-tKZDb-JXtr92nuDal5TtUthSDnTDMRhXfIL04nyKMnitnr9-pnLJpQrh459XP68bTkA5bjZKxtq3mkjbPbDfn02eCKuj6tWj6j0DNRabK6aKC5bL6rJabC3b5CzXU6q2bDeQN3OW4Rq3Irt2M8aQI0WjJ3oyU7k0q0vWtvJWbbvLT7johRTWqR4enjb3MonDh83Mxb4BUrCHRrzWn3O5hvvhKoO3MA-yUKmDloOW-TB5bbPLUQF5l8-sq0x0bOte-bQXH_E5bj2qRCqVIKa3f',\n",
    "'BDSFRCVID_BFESS': '8--OJexroG0xMovDbuOS5T78igKKHJQTDYLtOwXPsp3LGJLVgaSTEG0PtjcEHMA-2ZlgogKK02OTH6KF_2uxOjjg8UtVJeC6EG0Ptf8g0M5',\n",
    "'H_BDCLCKID_SF_BFESS': 'tJPqoKtbtDI3fP36qR3KhPt8Kpby2D62aKDs2nopBhcqEIL4QTQM5p5yQ2c7LUvtynT2KJnz3Po8MUbSj4QoDjFjXJ7RJRJbK6vwKJ5s5h5nhMJSb67JDMP0-4F8exry523ioIovQpn0MhQ3DRoWXPIqbN7P-p5Z5mAqKl0MLPbtbb0xXj_0D6bBjHujtT_s2TTKLPK8fCnBDP59MDTjhPrMypomWMT-0bFH_-5L-l5js56SbU5hW5LSQxQ3QhLDQNn7_JjOX-0bVIj6Wl_-etP3yarQhxQxtNRdXInjtpvhHR38MpbobUPUDa59LUvEJgcdot5yBbc8eIna5hjkbfJBQttjQn3hfIkj0DKLtD8bMC-RDjt35n-Wqxobbtof-KOhLTrJaDkWsx7Oy4oTj6DD5lrG0P6RHmb8ht59JROPSU7mhqb_3MvB-fnEbf7r-2TP_R6GBPQtqMbIQft20-DIeMtjBMJaJRCqWR7jWhk2hl72ybCMQlRX5q79atTMfNTJ-qcH0KQpsIJM5-DWbT8EjHCet5DJJn4j_Dv5b-0aKRcY-tT5M-Lf5eT22-usy6Qd2hcH0KLKDh6gb4PhQKuZ5qutLTb4QTbqWKJcKfb1MRjvMPnF-tKZDb-JXtr92nuDal5TtUthSDnTDMRhXfIL04nyKMnitnr9-pnLJpQrh459XP68bTkA5bjZKxtq3mkjbPbDfn02eCKuj6tWj6j0DNRabK6aKC5bL6rJabC3b5CzXU6q2bDeQN3OW4Rq3Irt2M8aQI0WjJ3oyU7k0q0vWtvJWbbvLT7johRTWqR4enjb3MonDh83Mxb4BUrCHRrzWn3O5hvvhKoO3MA-yUKmDloOW-TB5bbPLUQF5l8-sq0x0bOte-bQXH_E5bj2qRCqVIKa3f',\n",
    "'indexPageSugList': '%5B%22%E7%8B%97%E7%8B%97%22%5D',\n",
    "'cleanHistoryStatus': '0',\n",
    "'BAIDUID_BFESS': '104BD58A7C408DABABCAC9E0A1B184B4:FG=1',\n",
    "'BDRCVFR[dG2JNJb_ajR]': 'mk3SLVN4HKm',\n",
    "'BDRCVFR[-pGxjrCMryR]': 'mk3SLVN4HKm',\n",
    "'ab_sr': '1.0.1_Y2YxZDkwMWZkMmY2MzA4MGU0OTNhMzVlNTcwMmM2MWE4YWU4OTc1ZjZmZDM2N2RjYmVkMzFiY2NjNWM4Nzk4NzBlZTliYWU0ZTAyODkzNDA3YzNiMTVjMTllMzQ0MGJlZjAwYzk5MDdjNWM0MzJmMDdhOWNhYTZhMjIwODc5MDMxN2QyMmE1YTFmN2QyY2M1M2VmZDkzMjMyOThiYmNhZA==',\n",
    "'delPer': '0',\n",
    "'PSINO': '2',\n",
    "'BA_HECTOR': '8h24a024042g05alup1h3g0aq0q',\n",
    "}\n",
    "\n",
    "headers = {\n",
    "'Connection': 'keep-alive',\n",
    "'sec-ch-ua': '\" Not;A Brand\";v=\"99\", \"Google Chrome\";v=\"97\", \"Chromium\";v=\"97\"',\n",
    "'Accept': 'text/plain, */*; q=0.01',\n",
    "'X-Requested-With': 'XMLHttpRequest',\n",
    "'sec-ch-ua-mobile': '?0',\n",
    "'User-Agent': 'Mozilla/5.0 (Macintosh; Intel Mac OS X 10_15_7) AppleWebKit/537.36 (KHTML, like Gecko) Chrome/97.0.4692.99 Safari/537.36',\n",
    "'sec-ch-ua-platform': '\"macOS\"',\n",
    "'Sec-Fetch-Site': 'same-origin',\n",
    "'Sec-Fetch-Mode': 'cors',\n",
    "'Sec-Fetch-Dest': 'empty',\n",
    "'Referer': 'https://image.baidu.com/search/index?tn=baiduimage&ipn=r&ct=201326592&cl=2&lm=-1&st=-1&fm=result&fr=&sf=1&fmq=1647837998851_R&pv=&ic=&nc=1&z=&hd=&latest=&copyright=&se=1&showtab=0&fb=0&width=&height=&face=0&istype=2&dyTabStr=MCwzLDIsNiwxLDUsNCw4LDcsOQ%3D%3D&ie=utf-8&sid=&word=%E7%8B%97%E7%8B%97',\n",
    "'Accept-Language': 'zh-CN,zh;q=0.9',\n",
    "}"
   ]
  },
  {
   "cell_type": "code",
   "execution_count": 3,
   "id": "0f3ab726-1389-4b47-973a-bd282b764742",
   "metadata": {},
   "outputs": [],
   "source": [
    "# 关键词\n",
    "keyword = '衬衣'\n",
    "\n",
    "# 拟爬取图像个数\n",
    "DOWNLOAD_NUM = 5"
   ]
  },
  {
   "cell_type": "code",
   "execution_count": 4,
   "id": "ab7a897c-235e-4667-bd65-b440414c3d8f",
   "metadata": {},
   "outputs": [
    {
     "name": "stdout",
     "output_type": "stream",
     "text": [
      "文件夹 dataset/衬衣 已存在，之后直接将爬取到的图片保存至该文件夹中\n"
     ]
    }
   ],
   "source": [
    "if not os.path.exists('dataset'):\n",
    "    os.makedirs('dataset')\n",
    "    print('新建 dataset 文件夹')\n",
    "\n",
    "if os.path.exists('dataset/'+keyword):\n",
    "    print('文件夹 dataset/{} 已存在，之后直接将爬取到的图片保存至该文件夹中'.format(keyword))\n",
    "else:\n",
    "    os.makedirs('dataset/{}'.format(keyword))\n",
    "    print('新建文件夹：dataset/{}'.format(keyword))"
   ]
  },
  {
   "cell_type": "code",
   "execution_count": 5,
   "id": "ba28b57c-78ca-4191-8405-c243fbfa9ae2",
   "metadata": {},
   "outputs": [
    {
     "name": "stdout",
     "output_type": "stream",
     "text": [
      "链接 https://img0.baidu.com/it/u=3522749612,3204661651&fm=253&fmt=auto&app=138&f=JPEG?w=500&h=500\n",
      "第 1 张图像 new lake男士衬衫 new lake韩国新款简约商务纯色长袖衬衫男韩版修身 爬取完成\n",
      "链接 https://img0.baidu.com/it/u=1266846678,1317909058&fm=253&fmt=auto&app=138&f=JPEG?w=500&h=500\n",
      "第 2 张图像 jackjones杰克琼斯衬衫_jack jones短袖衬衫_jack jones正品短衬衫_ j 爬取完成\n",
      "链接 https://img1.baidu.com/it/u=2960686738,1038457333&fm=253&fmt=auto&app=138&f=JPEG?w=500&h=500\n",
      "第 3 张图像 才子(tries)男士衬衫 才子衬衫男长袖秋季新款修身青年潮流牛津纺男士 爬取完成\n",
      "链接 https://img2.baidu.com/it/u=2978809796,1390797877&fm=253&fmt=auto&app=138&f=JPEG?w=500&h=500\n",
      "第 4 张图像 奥敦曼(olderman)男士t恤 老人头2021夏季薄款男士亚麻宽松衬衫男装短 爬取完成\n",
      "链接 https://img0.baidu.com/it/u=2073945045,340302093&fm=253&fmt=auto&app=138&f=JPEG?w=310&h=310\n",
      "第 5 张图像 翻领花衬衫图片_翻领花衬衫图片大全 - 阿里巴巴海量精选高清图片 爬取完成\n",
      "6 张图像爬取完毕\n"
     ]
    }
   ],
   "source": [
    "count = 1\n",
    "\n",
    "# 爬取第几张\n",
    "num = 1\n",
    "\n",
    "# 是否继续爬取\n",
    "FLAG = True\n",
    "\n",
    "while FLAG:\n",
    "    \n",
    "    page = 30 * count\n",
    "    \n",
    "    params = (\n",
    "        ('tn', 'resultjson_com'),\n",
    "        ('logid', '12508239107856075440'),\n",
    "        ('ipn', 'rj'),\n",
    "        ('ct', '201326592'),\n",
    "        ('is', ''),\n",
    "        ('fp', 'result'),\n",
    "        ('fr', ''),\n",
    "        ('word', f'{keyword}'),\n",
    "        ('queryWord', f'{keyword}'),\n",
    "        ('cl', '2'),\n",
    "        ('lm', '-1'),\n",
    "        ('ie', 'utf-8'),\n",
    "        ('oe', 'utf-8'),\n",
    "        ('adpicid', ''),\n",
    "        ('st', '-1'),\n",
    "        ('z', ''),\n",
    "        ('ic', ''),\n",
    "        ('hd', ''),\n",
    "        ('latest', ''),\n",
    "        ('copyright', ''),\n",
    "        ('s', ''),\n",
    "        ('se', ''),\n",
    "        ('tab', ''),\n",
    "        ('width', ''),\n",
    "        ('height', ''),\n",
    "        ('face', '0'),\n",
    "        ('istype', '2'),\n",
    "        ('qc', ''),\n",
    "        ('nc', '1'),\n",
    "        ('expermode', ''),\n",
    "        ('nojc', ''),\n",
    "        ('isAsync', ''),\n",
    "        ('pn', f'{page}'),\n",
    "        ('rn', '30'),\n",
    "        ('gsm', '1e'),\n",
    "        ('1647838001666', ''),\n",
    "    )\n",
    "\n",
    "    response = requests.get('https://image.baidu.com/search/acjson', headers=headers, params=params, cookies=cookies)\n",
    "    if response.status_code == 200:\n",
    "        try:\n",
    "            json_data = response.json().get(\"data\")\n",
    "            \n",
    "            if json_data:\n",
    "                for x in json_data:\n",
    "                    type = x.get(\"type\")\n",
    "                    if type not in [\"gif\"]:\n",
    "                        img = x.get(\"thumbURL\")\n",
    "                        fromPageTitleEnc = x.get(\"fromPageTitleEnc\")\n",
    "                        try:\n",
    "                            resp = requests.get(url=img, verify=False)\n",
    "                            time.sleep(1)\n",
    "                            print(f\"链接 {img}\")\n",
    "                            # 保存文件名\n",
    "                            # file_save_path = f'dataset/{keyword}/{num}-{fromPageTitleEnc}.{type}'\n",
    "                            file_save_path = f'dataset/{keyword}/{num}.{type}'\n",
    "                            with open(file_save_path, 'wb') as f:\n",
    "                                f.write(resp.content) # 保存图像文件到本地\n",
    "                                f.flush()\n",
    "                                print('第 {} 张图像 {} 爬取完成'.format(num, fromPageTitleEnc))\n",
    "                                num += 1\n",
    "\n",
    "\n",
    "                            # 爬取数量达到要求\n",
    "                            if num > DOWNLOAD_NUM:\n",
    "                                FLAG = False\n",
    "                                print('{} 张图像爬取完毕'.format(num))\n",
    "                                break\n",
    "\n",
    "                        except Exception:\n",
    "                            pass\n",
    "        except:\n",
    "            pass\n",
    "    else:\n",
    "        break\n",
    "\n",
    "    count += 1"
   ]
  },
  {
   "cell_type": "code",
   "execution_count": 6,
   "id": "878b6a76-af9c-4ff5-8504-ed2e2ad5b333",
   "metadata": {},
   "outputs": [],
   "source": [
    "def craw_single_class(keyword, DOWNLOAD_NUM = 200):\n",
    "    if os.path.exists('dataset/'+keyword):\n",
    "        print('文件夹 dataset/{} 已存在，之后直接将爬取到的图片保存至该文件夹中'.format(keyword))\n",
    "    else:\n",
    "        os.makedirs('dataset/{}'.format(keyword))\n",
    "        print('新建文件夹：dataset/{}'.format(keyword))\n",
    "    count = 1\n",
    "    \n",
    "    with tqdm(total=DOWNLOAD_NUM, position=0, leave=True) as pbar:\n",
    "        \n",
    "        # 爬取第几张\n",
    "        num = 0\n",
    "\n",
    "        # 是否继续爬取\n",
    "        FLAG = True\n",
    "\n",
    "        while FLAG:\n",
    "\n",
    "            page = 30 * count\n",
    "\n",
    "            params = (\n",
    "                ('tn', 'resultjson_com'),\n",
    "                ('logid', '12508239107856075440'),\n",
    "                ('ipn', 'rj'),\n",
    "                ('ct', '201326592'),\n",
    "                ('is', ''),\n",
    "                ('fp', 'result'),\n",
    "                ('fr', ''),\n",
    "                ('word', f'{keyword}'),\n",
    "                ('queryWord', f'{keyword}'),\n",
    "                ('cl', '2'),\n",
    "                ('lm', '-1'),\n",
    "                ('ie', 'utf-8'),\n",
    "                ('oe', 'utf-8'),\n",
    "                ('adpicid', ''),\n",
    "                ('st', '-1'),\n",
    "                ('z', ''),\n",
    "                ('ic', ''),\n",
    "                ('hd', ''),\n",
    "                ('latest', ''),\n",
    "                ('copyright', ''),\n",
    "                ('s', ''),\n",
    "                ('se', ''),\n",
    "                ('tab', ''),\n",
    "                ('width', ''),\n",
    "                ('height', ''),\n",
    "                ('face', '0'),\n",
    "                ('istype', '2'),\n",
    "                ('qc', ''),\n",
    "                ('nc', '1'),\n",
    "                ('expermode', ''),\n",
    "                ('nojc', ''),\n",
    "                ('isAsync', ''),\n",
    "                ('pn', f'{page}'),\n",
    "                ('rn', '30'),\n",
    "                ('gsm', '1e'),\n",
    "                ('1647838001666', ''),\n",
    "            )\n",
    "\n",
    "            response = requests.get('https://image.baidu.com/search/acjson', headers=headers, params=params, cookies=cookies)\n",
    "            if response.status_code == 200:\n",
    "                try:\n",
    "                    json_data = response.json().get(\"data\")\n",
    "\n",
    "                    if json_data:\n",
    "                        for x in json_data:\n",
    "                            type = x.get(\"type\")\n",
    "                            if type not in [\"gif\"]:\n",
    "                                img = x.get(\"thumbURL\")\n",
    "                                fromPageTitleEnc = x.get(\"fromPageTitleEnc\")\n",
    "                                try:\n",
    "                                    resp = requests.get(url=img, verify=False)\n",
    "                                    time.sleep(1)\n",
    "                                    # print(f\"链接 {img}\")\n",
    "\n",
    "                                    # 保存文件名\n",
    "                                    # file_save_path = f'dataset/{keyword}/{num}-{fromPageTitleEnc}.{type}'\n",
    "                                    file_save_path = f'dataset/{keyword}/{num}.{type}'\n",
    "                                    with open(file_save_path, 'wb') as f:                                    \n",
    "                                        f.write(resp.content)\n",
    "                                        f.flush()\n",
    "                                        # print('第 {} 张图像 {} 爬取完成'.format(num, fromPageTitleEnc))\n",
    "                                        num += 1\n",
    "                                        pbar.update(1) # 进度条更新\n",
    "\n",
    "                                    # 爬取数量达到要求\n",
    "                                    if num > DOWNLOAD_NUM:\n",
    "                                        FLAG = False\n",
    "                                        print('{} 张图像爬取完毕'.format(num))\n",
    "                                        break\n",
    "\n",
    "                                except Exception:\n",
    "                                    pass\n",
    "                except:\n",
    "                    pass\n",
    "            else:\n",
    "                break\n",
    "\n",
    "            count += 1"
   ]
  },
  {
   "cell_type": "code",
   "execution_count": 7,
   "id": "654c428b-4fea-4ea3-808d-f75042a8e28d",
   "metadata": {},
   "outputs": [
    {
     "name": "stdout",
     "output_type": "stream",
     "text": [
      "文件夹 dataset/衬衣 已存在，之后直接将爬取到的图片保存至该文件夹中\n"
     ]
    },
    {
     "name": "stderr",
     "output_type": "stream",
     "text": [
      "201it [03:45,  1.12s/it]                         "
     ]
    },
    {
     "name": "stdout",
     "output_type": "stream",
     "text": [
      "201 张图像爬取完毕\n"
     ]
    },
    {
     "name": "stderr",
     "output_type": "stream",
     "text": [
      "\n"
     ]
    }
   ],
   "source": [
    "craw_single_class('衬衣', DOWNLOAD_NUM = 200)"
   ]
  },
  {
   "cell_type": "code",
   "execution_count": 8,
   "id": "f0915110-c7bb-4831-9a55-9655178a3718",
   "metadata": {},
   "outputs": [],
   "source": [
    "class_list = ['毛衣','长裤']"
   ]
  },
  {
   "cell_type": "code",
   "execution_count": 9,
   "id": "6f31ae63-f20d-4931-a4da-a7c39dc58a9b",
   "metadata": {},
   "outputs": [
    {
     "name": "stdout",
     "output_type": "stream",
     "text": [
      "新建文件夹：dataset/毛衣\n"
     ]
    },
    {
     "name": "stderr",
     "output_type": "stream",
     "text": [
      "6it [00:07,  1.26s/it]                       \n"
     ]
    },
    {
     "name": "stdout",
     "output_type": "stream",
     "text": [
      "6 张图像爬取完毕\n",
      "新建文件夹：dataset/长裤\n"
     ]
    },
    {
     "name": "stderr",
     "output_type": "stream",
     "text": [
      "6it [00:07,  1.25s/it]                       "
     ]
    },
    {
     "name": "stdout",
     "output_type": "stream",
     "text": [
      "6 张图像爬取完毕\n"
     ]
    },
    {
     "name": "stderr",
     "output_type": "stream",
     "text": [
      "\n"
     ]
    }
   ],
   "source": [
    "for each in class_list:\n",
    "    craw_single_class(each, DOWNLOAD_NUM = 5)"
   ]
  },
  {
   "cell_type": "code",
   "execution_count": 10,
   "id": "029f2964-50e0-423e-b43f-cd5aa6cf9bf8",
   "metadata": {},
   "outputs": [],
   "source": [
    "class_list = ['毛衣','外套','t恤衫','长裤','短裤','长裙','短裙','鞋子']"
   ]
  },
  {
   "cell_type": "code",
   "execution_count": null,
   "id": "1232f9a6-1870-4f93-8413-264e68492b75",
   "metadata": {},
   "outputs": [
    {
     "name": "stdout",
     "output_type": "stream",
     "text": [
      "文件夹 dataset/毛衣 已存在，之后直接将爬取到的图片保存至该文件夹中\n"
     ]
    },
    {
     "name": "stderr",
     "output_type": "stream",
     "text": [
      "201it [03:46,  1.13s/it]                         \n"
     ]
    },
    {
     "name": "stdout",
     "output_type": "stream",
     "text": [
      "201 张图像爬取完毕\n",
      "新建文件夹：dataset/外套\n"
     ]
    },
    {
     "name": "stderr",
     "output_type": "stream",
     "text": [
      "201it [03:47,  1.13s/it]                         \n"
     ]
    },
    {
     "name": "stdout",
     "output_type": "stream",
     "text": [
      "201 张图像爬取完毕\n",
      "新建文件夹：dataset/t恤衫\n"
     ]
    },
    {
     "name": "stderr",
     "output_type": "stream",
     "text": [
      "201it [03:54,  1.17s/it]                         \n"
     ]
    },
    {
     "name": "stdout",
     "output_type": "stream",
     "text": [
      "201 张图像爬取完毕\n",
      "文件夹 dataset/长裤 已存在，之后直接将爬取到的图片保存至该文件夹中\n"
     ]
    },
    {
     "name": "stderr",
     "output_type": "stream",
     "text": [
      "201it [03:47,  1.13s/it]                         \n"
     ]
    },
    {
     "name": "stdout",
     "output_type": "stream",
     "text": [
      "201 张图像爬取完毕\n",
      "新建文件夹：dataset/短裤\n"
     ]
    },
    {
     "name": "stderr",
     "output_type": "stream",
     "text": [
      "201it [03:48,  1.14s/it]                         \n"
     ]
    },
    {
     "name": "stdout",
     "output_type": "stream",
     "text": [
      "201 张图像爬取完毕\n",
      "新建文件夹：dataset/长裙\n"
     ]
    },
    {
     "name": "stderr",
     "output_type": "stream",
     "text": [
      "201it [03:49,  1.14s/it]                         \n"
     ]
    },
    {
     "name": "stdout",
     "output_type": "stream",
     "text": [
      "201 张图像爬取完毕\n",
      "新建文件夹：dataset/短裙\n"
     ]
    },
    {
     "name": "stderr",
     "output_type": "stream",
     "text": [
      "201it [03:45,  1.12s/it]                         \n"
     ]
    },
    {
     "name": "stdout",
     "output_type": "stream",
     "text": [
      "201 张图像爬取完毕\n",
      "新建文件夹：dataset/鞋子\n"
     ]
    },
    {
     "name": "stderr",
     "output_type": "stream",
     "text": [
      "201it [03:43,  1.11s/it]                         \n"
     ]
    },
    {
     "name": "stdout",
     "output_type": "stream",
     "text": [
      "201 张图像爬取完毕\n",
      "新建文件夹：dataset/丝袜\n"
     ]
    },
    {
     "name": "stderr",
     "output_type": "stream",
     "text": [
      "201it [03:42,  1.11s/it]                         \n"
     ]
    },
    {
     "name": "stdout",
     "output_type": "stream",
     "text": [
      "201 张图像爬取完毕\n",
      "文件夹 dataset/ 已存在，之后直接将爬取到的图片保存至该文件夹中\n"
     ]
    },
    {
     "name": "stderr",
     "output_type": "stream",
     "text": [
      "  0%|          | 0/200 [07:49<?, ?it/s]\n"
     ]
    }
   ],
   "source": [
    "for each in class_list:\n",
    "    craw_single_class(each, DOWNLOAD_NUM = 200)"
   ]
  },
  {
   "cell_type": "code",
   "execution_count": 7,
   "id": "c68b5559-aac0-4d86-8b16-b94300d52c07",
   "metadata": {},
   "outputs": [],
   "source": [
    "class_list = ['生鲜','快餐','零食','酱料','饮品','','','','','','','','','','','']"
   ]
  },
  {
   "cell_type": "code",
   "execution_count": null,
   "id": "c3221e81-24fb-407f-85b2-f7963cc75800",
   "metadata": {},
   "outputs": [
    {
     "name": "stdout",
     "output_type": "stream",
     "text": [
      "新建文件夹：dataset/生鲜\n"
     ]
    },
    {
     "name": "stderr",
     "output_type": "stream",
     "text": [
      "201it [03:51,  1.15s/it]                         \n"
     ]
    },
    {
     "name": "stdout",
     "output_type": "stream",
     "text": [
      "201 张图像爬取完毕\n",
      "新建文件夹：dataset/快餐\n"
     ]
    },
    {
     "name": "stderr",
     "output_type": "stream",
     "text": [
      "201it [03:52,  1.16s/it]                         \n"
     ]
    },
    {
     "name": "stdout",
     "output_type": "stream",
     "text": [
      "201 张图像爬取完毕\n",
      "新建文件夹：dataset/零食\n"
     ]
    },
    {
     "name": "stderr",
     "output_type": "stream",
     "text": [
      "201it [03:50,  1.15s/it]                         \n"
     ]
    },
    {
     "name": "stdout",
     "output_type": "stream",
     "text": [
      "201 张图像爬取完毕\n",
      "新建文件夹：dataset/酱料\n"
     ]
    },
    {
     "name": "stderr",
     "output_type": "stream",
     "text": [
      "201it [04:08,  1.24s/it]                         \n"
     ]
    },
    {
     "name": "stdout",
     "output_type": "stream",
     "text": [
      "201 张图像爬取完毕\n",
      "新建文件夹：dataset/饮品\n"
     ]
    },
    {
     "name": "stderr",
     "output_type": "stream",
     "text": [
      "201it [03:45,  1.12s/it]                         \n"
     ]
    },
    {
     "name": "stdout",
     "output_type": "stream",
     "text": [
      "201 张图像爬取完毕\n",
      "文件夹 dataset/ 已存在，之后直接将爬取到的图片保存至该文件夹中\n"
     ]
    },
    {
     "name": "stderr",
     "output_type": "stream",
     "text": [
      "  0%|          | 0/200 [00:00<?, ?it/s]"
     ]
    }
   ],
   "source": [
    "for each in class_list:\n",
    "    craw_single_class(each, DOWNLOAD_NUM = 200)\n",
    "    "
   ]
  },
  {
   "cell_type": "code",
   "execution_count": 7,
   "id": "82acd9b5-f32d-4efd-9dc1-efb46b5376be",
   "metadata": {},
   "outputs": [],
   "source": [
    "class_list = ['平板电脑','笔记本电脑','手机','有线耳机','无线耳机','MP3']"
   ]
  },
  {
   "cell_type": "code",
   "execution_count": 8,
   "id": "662d3cae-e3a9-407f-8584-a8d84faa0a3f",
   "metadata": {},
   "outputs": [
    {
     "name": "stdout",
     "output_type": "stream",
     "text": [
      "新建文件夹：dataset/平板电脑\n"
     ]
    },
    {
     "name": "stderr",
     "output_type": "stream",
     "text": [
      "201it [03:46,  1.13s/it]                         \n"
     ]
    },
    {
     "name": "stdout",
     "output_type": "stream",
     "text": [
      "201 张图像爬取完毕\n",
      "新建文件夹：dataset/笔记本电脑\n"
     ]
    },
    {
     "name": "stderr",
     "output_type": "stream",
     "text": [
      "201it [03:50,  1.15s/it]                         \n"
     ]
    },
    {
     "name": "stdout",
     "output_type": "stream",
     "text": [
      "201 张图像爬取完毕\n",
      "新建文件夹：dataset/手机\n"
     ]
    },
    {
     "name": "stderr",
     "output_type": "stream",
     "text": [
      "201it [03:48,  1.14s/it]                         \n"
     ]
    },
    {
     "name": "stdout",
     "output_type": "stream",
     "text": [
      "201 张图像爬取完毕\n",
      "新建文件夹：dataset/有线耳机\n"
     ]
    },
    {
     "name": "stderr",
     "output_type": "stream",
     "text": [
      "201it [03:50,  1.15s/it]                         \n"
     ]
    },
    {
     "name": "stdout",
     "output_type": "stream",
     "text": [
      "201 张图像爬取完毕\n",
      "新建文件夹：dataset/无线耳机\n"
     ]
    },
    {
     "name": "stderr",
     "output_type": "stream",
     "text": [
      "201it [03:53,  1.16s/it]                         \n"
     ]
    },
    {
     "name": "stdout",
     "output_type": "stream",
     "text": [
      "201 张图像爬取完毕\n",
      "新建文件夹：dataset/MP3\n"
     ]
    },
    {
     "name": "stderr",
     "output_type": "stream",
     "text": [
      "201it [03:51,  1.15s/it]                         "
     ]
    },
    {
     "name": "stdout",
     "output_type": "stream",
     "text": [
      "201 张图像爬取完毕\n"
     ]
    },
    {
     "name": "stderr",
     "output_type": "stream",
     "text": [
      "\n"
     ]
    }
   ],
   "source": [
    "for each in class_list:\n",
    "    craw_single_class(each, DOWNLOAD_NUM = 200)"
   ]
  },
  {
   "cell_type": "code",
   "execution_count": 8,
   "id": "c5562a6b-3dd5-404a-a7da-c10adfa433b3",
   "metadata": {},
   "outputs": [],
   "source": [
    "class_list = ['体育用品','文具']"
   ]
  },
  {
   "cell_type": "code",
   "execution_count": 9,
   "id": "82ef1ad8-4625-4b6a-8834-963a16574e77",
   "metadata": {},
   "outputs": [
    {
     "name": "stdout",
     "output_type": "stream",
     "text": [
      "新建文件夹：dataset/体育用品\n"
     ]
    },
    {
     "name": "stderr",
     "output_type": "stream",
     "text": [
      "501it [09:38,  1.15s/it]                         \n"
     ]
    },
    {
     "name": "stdout",
     "output_type": "stream",
     "text": [
      "501 张图像爬取完毕\n",
      "新建文件夹：dataset/文具\n"
     ]
    },
    {
     "name": "stderr",
     "output_type": "stream",
     "text": [
      "501it [09:23,  1.12s/it]                         "
     ]
    },
    {
     "name": "stdout",
     "output_type": "stream",
     "text": [
      "501 张图像爬取完毕\n"
     ]
    },
    {
     "name": "stderr",
     "output_type": "stream",
     "text": [
      "\n"
     ]
    }
   ],
   "source": [
    "for each in class_list:\n",
    "    craw_single_class(each,DOWNLOAD_NUM = 500)"
   ]
  },
  {
   "cell_type": "code",
   "execution_count": null,
   "id": "a6575d93-b391-4c54-a91c-8111361e390e",
   "metadata": {},
   "outputs": [],
   "source": []
  },
  {
   "cell_type": "code",
   "execution_count": null,
   "id": "b911b2c2-d7ad-4fdc-a4b7-944db72afe56",
   "metadata": {},
   "outputs": [],
   "source": []
  },
  {
   "cell_type": "code",
   "execution_count": null,
   "id": "cb039ba0-db2a-4e80-b274-24b5d3be1a25",
   "metadata": {},
   "outputs": [],
   "source": []
  },
  {
   "cell_type": "code",
   "execution_count": null,
   "id": "97db7065-7790-4128-ae67-a8120c596ed5",
   "metadata": {},
   "outputs": [],
   "source": []
  }
 ],
 "metadata": {
  "kernelspec": {
   "display_name": "Python 3 (ipykernel)",
   "language": "python",
   "name": "python3"
  },
  "language_info": {
   "codemirror_mode": {
    "name": "ipython",
    "version": 3
   },
   "file_extension": ".py",
   "mimetype": "text/x-python",
   "name": "python",
   "nbconvert_exporter": "python",
   "pygments_lexer": "ipython3",
   "version": "3.7.10"
  }
 },
 "nbformat": 4,
 "nbformat_minor": 5
}
