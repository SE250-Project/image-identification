{
 "cells": [
  {
   "cell_type": "code",
   "execution_count": 2,
   "id": "f1d89b59-3e98-417e-81ba-5bb41919b96f",
   "metadata": {},
   "outputs": [
    {
     "name": "stdout",
     "output_type": "stream",
     "text": [
      "Looking in indexes: https://pypi.tuna.tsinghua.edu.cn/simple\n",
      "Requirement already satisfied: numpy in /environment/miniconda3/lib/python3.7/site-packages (1.21.4)\n",
      "Requirement already satisfied: pandas in /environment/miniconda3/lib/python3.7/site-packages (1.3.4)\n",
      "Requirement already satisfied: matplotlib in /environment/miniconda3/lib/python3.7/site-packages (3.5.0)\n",
      "Requirement already satisfied: requests in /environment/miniconda3/lib/python3.7/site-packages (2.24.0)\n",
      "Requirement already satisfied: tqdm in /environment/miniconda3/lib/python3.7/site-packages (4.61.2)\n",
      "Requirement already satisfied: opencv-python in /environment/miniconda3/lib/python3.7/site-packages (4.5.4.60)\n",
      "Requirement already satisfied: pillow in /environment/miniconda3/lib/python3.7/site-packages (8.4.0)\n",
      "\u001b[31mERROR: Could not find a version that satisfies the requirement gc (from versions: none)\u001b[0m\n",
      "\u001b[31mERROR: No matching distribution found for gc\u001b[0m\n"
     ]
    }
   ],
   "source": [
    "!pip install numpy pandas matplotlib requests tqdm opencv-python pillow gc -i https://pypi.tuna.tsinghua.edu.cn/simple"
   ]
  },
  {
   "cell_type": "code",
   "execution_count": 3,
   "id": "67295ce2-9964-4745-87f7-d0786da1ca7f",
   "metadata": {},
   "outputs": [
    {
     "name": "stdout",
     "output_type": "stream",
     "text": [
      "Looking in indexes: https://pypi.tuna.tsinghua.edu.cn/simple, https://download.pytorch.org/whl/cu113\n",
      "Requirement already satisfied: torch in /environment/miniconda3/lib/python3.7/site-packages (1.10.0+cu113)\n",
      "Requirement already satisfied: torchvision in /environment/miniconda3/lib/python3.7/site-packages (0.11.1+cu113)\n",
      "Requirement already satisfied: torchaudio in /environment/miniconda3/lib/python3.7/site-packages (0.10.0+cu113)\n",
      "Requirement already satisfied: typing-extensions in /environment/miniconda3/lib/python3.7/site-packages (from torch) (4.0.1)\n",
      "Requirement already satisfied: numpy in /environment/miniconda3/lib/python3.7/site-packages (from torchvision) (1.21.4)\n",
      "Requirement already satisfied: pillow!=8.3.0,>=5.3.0 in /environment/miniconda3/lib/python3.7/site-packages (from torchvision) (8.4.0)\n"
     ]
    }
   ],
   "source": [
    "!pip3 install torch torchvision torchaudio --extra-index-url https://download.pytorch.org/whl/cu113"
   ]
  },
  {
   "cell_type": "code",
   "execution_count": 4,
   "id": "1a0c077f-74c8-4551-89e5-fb440826d77f",
   "metadata": {},
   "outputs": [
    {
     "name": "stdout",
     "output_type": "stream",
     "text": [
      "Looking in indexes: https://pypi.tuna.tsinghua.edu.cn/simple\n",
      "Looking in links: https://download.openmmlab.com/mmcv/dist/cu113/torch1.10.0/index.html\n",
      "Collecting mmcv-full\n",
      "  Downloading https://download.openmmlab.com/mmcv/dist/cu113/torch1.10.0/mmcv_full-1.6.2-cp37-cp37m-manylinux1_x86_64.whl (54.2 MB)\n",
      "\u001b[K     |████████████████████████████████| 54.2 MB 50.6 MB/s eta 0:00:01   |█████▌                          | 9.4 MB 5.6 MB/s eta 0:00:08     |██████▉                         | 11.6 MB 5.6 MB/s eta 0:00:08     |██████████████                  | 23.7 MB 5.6 MB/s eta 0:00:06     |█████████████████               | 28.7 MB 5.6 MB/s eta 0:00:05     |███████████████████▉            | 33.7 MB 5.6 MB/s eta 0:00:04     |██████████████████████▉         | 38.7 MB 5.6 MB/s eta 0:00:03\n",
      "\u001b[?25hRequirement already satisfied: Pillow in /environment/miniconda3/lib/python3.7/site-packages (from mmcv-full) (8.4.0)\n",
      "Requirement already satisfied: packaging in /environment/miniconda3/lib/python3.7/site-packages (from mmcv-full) (21.3)\n",
      "Requirement already satisfied: opencv-python>=3 in /environment/miniconda3/lib/python3.7/site-packages (from mmcv-full) (4.5.4.60)\n",
      "Collecting addict\n",
      "  Downloading https://pypi.tuna.tsinghua.edu.cn/packages/6a/00/b08f23b7d7e1e14ce01419a467b583edbb93c6cdb8654e54a9cc579cd61f/addict-2.4.0-py3-none-any.whl (3.8 kB)\n",
      "Requirement already satisfied: yapf in /environment/miniconda3/lib/python3.7/site-packages (from mmcv-full) (0.31.0)\n",
      "Requirement already satisfied: pyyaml in /environment/miniconda3/lib/python3.7/site-packages (from mmcv-full) (6.0)\n",
      "Requirement already satisfied: numpy in /environment/miniconda3/lib/python3.7/site-packages (from mmcv-full) (1.21.4)\n",
      "Requirement already satisfied: pyparsing!=3.0.5,>=2.0.2 in /environment/miniconda3/lib/python3.7/site-packages (from packaging->mmcv-full) (3.0.6)\n",
      "Installing collected packages: addict, mmcv-full\n",
      "Successfully installed addict-2.4.0 mmcv-full-1.6.2\n"
     ]
    }
   ],
   "source": [
    "# 安装mmcv -full\n",
    "!pip install mmcv-full -f https://download.openmmlab.com/mmcv/dist/cu113/torch1.10.0/index.html"
   ]
  },
  {
   "cell_type": "code",
   "execution_count": 5,
   "id": "d412bafa-5777-484f-ac02-dc90ffc76f95",
   "metadata": {},
   "outputs": [
    {
     "name": "stdout",
     "output_type": "stream",
     "text": [
      "--2022-10-14 10:08:02--  https://zihao-openmmlab.obs.cn-east-3.myhuaweicloud.com/20220716-mmclassification/dataset/SimHei.ttf\n",
      "正在连接 172.16.0.13:5848... 已连接。\n",
      "已发出 Proxy 请求，正在等待回应... 200 OK\n",
      "长度： 10050868 (9.6M) [application/x-font-ttf]\n",
      "正在保存至: “SimHei.ttf”\n",
      "\n",
      "SimHei.ttf          100%[===================>]   9.58M  14.1MB/s    用时 0.7s    \n",
      "\n",
      "2022-10-14 10:08:03 (14.1 MB/s) - 已保存 “SimHei.ttf” [10050868/10050868])\n",
      "\n"
     ]
    }
   ],
   "source": [
    "!wget https://zihao-openmmlab.obs.cn-east-3.myhuaweicloud.com/20220716-mmclassification/dataset/SimHei.ttf"
   ]
  },
  {
   "cell_type": "code",
   "execution_count": 6,
   "id": "9a449c6f-85a4-4915-9ad2-ebc35794c429",
   "metadata": {},
   "outputs": [
    {
     "name": "stdout",
     "output_type": "stream",
     "text": [
      "--2022-10-14 10:08:06--  https://zihao-openmmlab.obs.cn-east-3.myhuaweicloud.com/20220716-mmclassification/dataset/meta_data/imagenet_class_index.csv\n",
      "正在连接 172.16.0.13:5848... 已连接。\n",
      "已发出 Proxy 请求，正在等待回应... 200 OK\n",
      "长度： 37074 (36K) [text/csv]\n",
      "正在保存至: “imagenet_class_index.csv”\n",
      "\n",
      "imagenet_class_inde 100%[===================>]  36.21K  --.-KB/s    用时 0.1s    \n",
      "\n",
      "2022-10-14 10:08:06 (345 KB/s) - 已保存 “imagenet_class_index.csv” [37074/37074])\n",
      "\n"
     ]
    }
   ],
   "source": [
    "!wget https://zihao-openmmlab.obs.cn-east-3.myhuaweicloud.com/20220716-mmclassification/dataset/meta_data/imagenet_class_index.csv"
   ]
  },
  {
   "cell_type": "code",
   "execution_count": 7,
   "id": "342bd249-17ec-4b0c-aeb2-44aa2bc56924",
   "metadata": {},
   "outputs": [],
   "source": [
    "\n",
    "import os"
   ]
  },
  {
   "cell_type": "code",
   "execution_count": 8,
   "id": "9c3881af-2611-4864-baac-8057f0a62cae",
   "metadata": {},
   "outputs": [],
   "source": [
    "# 存放测试图片\n",
    "os.mkdir('test_img')\n",
    "\n",
    "# 存放结果文件\n",
    "os.mkdir('output')"
   ]
  },
  {
   "cell_type": "code",
   "execution_count": 9,
   "id": "68981aef-2a4a-47f1-88af-1b1ed1d72972",
   "metadata": {},
   "outputs": [
    {
     "name": "stdout",
     "output_type": "stream",
     "text": [
      "--2022-10-14 10:08:14--  https://zihao-openmmlab.obs.cn-east-3.myhuaweicloud.com/20220716-mmclassification/test/watermelon1.jpg\n",
      "正在连接 172.16.0.13:5848... 已连接。\n",
      "已发出 Proxy 请求，正在等待回应... 200 OK\n",
      "长度： 429666 (420K) [image/jpeg]\n",
      "正在保存至: “test_img/watermelon1.jpg”\n",
      "\n",
      "test_img/watermelon 100%[===================>] 419.60K  1.55MB/s    用时 0.3s    \n",
      "\n",
      "2022-10-14 10:08:14 (1.55 MB/s) - 已保存 “test_img/watermelon1.jpg” [429666/429666])\n",
      "\n",
      "--2022-10-14 10:08:15--  https://zihao-openmmlab.obs.cn-east-3.myhuaweicloud.com/20220716-mmclassification/test/banana1.jpg\n",
      "正在连接 172.16.0.13:5848... 已连接。\n",
      "已发出 Proxy 请求，正在等待回应... 200 OK\n",
      "长度： 463879 (453K) [image/jpeg]\n",
      "正在保存至: “test_img/banana1.jpg”\n",
      "\n",
      "test_img/banana1.jp 100%[===================>] 453.01K  2.01MB/s    用时 0.2s    \n",
      "\n",
      "2022-10-14 10:08:15 (2.01 MB/s) - 已保存 “test_img/banana1.jpg” [463879/463879])\n",
      "\n",
      "--2022-10-14 10:08:15--  https://zihao-openmmlab.obs.cn-east-3.myhuaweicloud.com/20220716-mmclassification/test/cat1.jpg\n",
      "正在连接 172.16.0.13:5848... 已连接。\n",
      "已发出 Proxy 请求，正在等待回应... 200 OK\n",
      "长度： 34701 (34K) [image/jpeg]\n",
      "正在保存至: “test_img/cat1.jpg”\n",
      "\n",
      "test_img/cat1.jpg   100%[===================>]  33.89K  --.-KB/s    用时 0.06s   \n",
      "\n",
      "2022-10-14 10:08:16 (544 KB/s) - 已保存 “test_img/cat1.jpg” [34701/34701])\n",
      "\n",
      "--2022-10-14 10:08:16--  https://zihao-openmmlab.obs.cn-east-3.myhuaweicloud.com/20220716-mmclassification/test/husky1.jpeg\n",
      "正在连接 172.16.0.13:5848... 已连接。\n",
      "已发出 Proxy 请求，正在等待回应... 200 OK\n",
      "长度： 284402 (278K) [image/jpeg]\n",
      "正在保存至: “test_img/husky1.jpeg”\n",
      "\n",
      "test_img/husky1.jpe 100%[===================>] 277.74K  1.53MB/s    用时 0.2s    \n",
      "\n",
      "2022-10-14 10:08:16 (1.53 MB/s) - 已保存 “test_img/husky1.jpeg” [284402/284402])\n",
      "\n",
      "--2022-10-14 10:08:16--  https://zihao-openmmlab.obs.cn-east-3.myhuaweicloud.com/20220716-mmclassification/test/cat_dog.jpg\n",
      "正在连接 172.16.0.13:5848... 已连接。\n",
      "已发出 Proxy 请求，正在等待回应... 200 OK\n",
      "长度： 817995 (799K) [image/jpeg]\n",
      "正在保存至: “test_img/cat_dog.jpg”\n",
      "\n",
      "test_img/cat_dog.jp 100%[===================>] 798.82K  2.61MB/s    用时 0.3s    \n",
      "\n",
      "2022-10-14 10:08:17 (2.61 MB/s) - 已保存 “test_img/cat_dog.jpg” [817995/817995])\n",
      "\n",
      "--2022-10-14 10:08:17--  https://zihao-openmmlab.obs.cn-east-3.myhuaweicloud.com/20220716-mmclassification/test/video_2.mp4\n",
      "正在连接 172.16.0.13:5848... 已连接。\n",
      "已发出 Proxy 请求，正在等待回应... 200 OK\n",
      "长度： 58635218 (56M) [video/mp4]\n",
      "正在保存至: “test_img/video_2.mp4”\n",
      "\n",
      "test_img/video_2.mp 100%[===================>]  55.92M  22.8MB/s    用时 2.5s    \n",
      "\n",
      "2022-10-14 10:08:20 (22.8 MB/s) - 已保存 “test_img/video_2.mp4” [58635218/58635218])\n",
      "\n"
     ]
    }
   ],
   "source": [
    "# 下载测试图像文件 至 test_img 文件夹\n",
    "\n",
    "!wget https://zihao-openmmlab.obs.cn-east-3.myhuaweicloud.com/20220716-mmclassification/test/watermelon1.jpg -O test_img/watermelon1.jpg\n",
    "!wget https://zihao-openmmlab.obs.cn-east-3.myhuaweicloud.com/20220716-mmclassification/test/banana1.jpg -O test_img/banana1.jpg\n",
    "!wget https://zihao-openmmlab.obs.cn-east-3.myhuaweicloud.com/20220716-mmclassification/test/cat1.jpg -O test_img/cat1.jpg\n",
    "\n",
    "# 哈士奇，来源：https://www.pexels.com/zh-cn/photo/2853130/\n",
    "!wget https://zihao-openmmlab.obs.cn-east-3.myhuaweicloud.com/20220716-mmclassification/test/husky1.jpeg -O test_img/husky1.jpeg\n",
    "\n",
    "# 猫狗，来源：https://unsplash.com/photos/ouo1hbizWwo\n",
    "!wget https://zihao-openmmlab.obs.cn-east-3.myhuaweicloud.com/20220716-mmclassification/test/cat_dog.jpg -O test_img/cat_dog.jpg\n",
    "\n",
    "!wget https://zihao-openmmlab.obs.cn-east-3.myhuaweicloud.com/20220716-mmclassification/test/video_2.mp4 -O test_img/video_2.mp4\n"
   ]
  },
  {
   "cell_type": "code",
   "execution_count": null,
   "id": "ee240f86-ecd4-42a6-af59-609e40e98ecf",
   "metadata": {},
   "outputs": [],
   "source": []
  },
  {
   "cell_type": "code",
   "execution_count": null,
   "id": "1ce3a5fc-243a-4dfc-977a-f8f15cfab558",
   "metadata": {},
   "outputs": [],
   "source": []
  },
  {
   "cell_type": "code",
   "execution_count": null,
   "id": "fdb2eeeb-3d73-4617-a37a-e26f1c8f9c49",
   "metadata": {},
   "outputs": [],
   "source": []
  },
  {
   "cell_type": "code",
   "execution_count": null,
   "id": "3ec541dd-4df9-4d95-a807-7418dce81334",
   "metadata": {},
   "outputs": [],
   "source": []
  },
  {
   "cell_type": "code",
   "execution_count": null,
   "id": "b6224859-9a84-445d-b5c1-43933ce121f3",
   "metadata": {},
   "outputs": [],
   "source": []
  }
 ],
 "metadata": {
  "kernelspec": {
   "display_name": "Python 3 (ipykernel)",
   "language": "python",
   "name": "python3"
  },
  "language_info": {
   "codemirror_mode": {
    "name": "ipython",
    "version": 3
   },
   "file_extension": ".py",
   "mimetype": "text/x-python",
   "name": "python",
   "nbconvert_exporter": "python",
   "pygments_lexer": "ipython3",
   "version": "3.7.10"
  }
 },
 "nbformat": 4,
 "nbformat_minor": 5
}
